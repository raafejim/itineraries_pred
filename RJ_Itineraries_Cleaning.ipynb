{
 "cells": [
  {
   "cell_type": "code",
   "execution_count": 1,
   "id": "74833984",
   "metadata": {},
   "outputs": [
    {
     "data": {
      "text/html": [
       "<style>pre { white-space: pre !important; }</style>"
      ],
      "text/plain": [
       "<IPython.core.display.HTML object>"
      ]
     },
     "metadata": {},
     "output_type": "display_data"
    }
   ],
   "source": [
    "#code to correct table output in JupyterNotebook\n",
    "#source: https://stackoverflow.com/questions/48357459/make-cell-output-in-jupyter-notebook-scroll-horizontally\n",
    "\n",
    "from IPython.display import display, HTML\n",
    "display(HTML(\"<style>pre { white-space: pre !important; }</style>\"))"
   ]
  },
  {
   "cell_type": "code",
   "execution_count": 2,
   "id": "ede284ae",
   "metadata": {},
   "outputs": [
    {
     "data": {
      "text/html": [
       "\n",
       "            <div>\n",
       "                <p><b>SparkSession - hive</b></p>\n",
       "                \n",
       "        <div>\n",
       "            <p><b>SparkContext</b></p>\n",
       "\n",
       "            <p><a href=\"http://flightpricescleaning-m.us-central1-f.c.noted-acronym-435902-s9.internal:42457\">Spark UI</a></p>\n",
       "\n",
       "            <dl>\n",
       "              <dt>Version</dt>\n",
       "                <dd><code>v3.5.1</code></dd>\n",
       "              <dt>Master</dt>\n",
       "                <dd><code>yarn</code></dd>\n",
       "              <dt>AppName</dt>\n",
       "                <dd><code>PySparkShell</code></dd>\n",
       "            </dl>\n",
       "        </div>\n",
       "        \n",
       "            </div>\n",
       "        "
      ],
      "text/plain": [
       "<pyspark.sql.session.SparkSession at 0x7fef308a6450>"
      ]
     },
     "execution_count": 2,
     "metadata": {},
     "output_type": "execute_result"
    }
   ],
   "source": [
    "#testing spark\n",
    "spark"
   ]
  },
  {
   "cell_type": "code",
   "execution_count": 4,
   "id": "bba66257",
   "metadata": {},
   "outputs": [],
   "source": [
    "#importing required libraries\n",
    "import pandas as pd\n",
    "import matplotlib.pyplot as plt\n",
    "import seaborn as sns\n",
    "from pyspark.sql import SparkSession\n",
    "from pyspark.sql.functions import col, isnan, isnull, when, count, udf, avg, min, max, stddev, to_timestamp, rand"
   ]
  },
  {
   "cell_type": "code",
   "execution_count": 5,
   "id": "91e73544",
   "metadata": {},
   "outputs": [
    {
     "name": "stderr",
     "output_type": "stream",
     "text": [
      "24/11/21 20:36:17 WARN SparkSession: Using an existing Spark session; only runtime SQL configurations will take effect.\n",
      "                                                                                \r"
     ]
    }
   ],
   "source": [
    "#spark setup\n",
    "spark = SparkSession.builder.appName(\"EDA_and_Cleaning\").getOrCreate()\n",
    "dataset_path = \"gs://my-mlproject-bucket-rj/landing/itineraries.csv\"\n",
    "\n",
    "df = spark.read.csv(dataset_path, header=True, inferSchema = True)"
   ]
  },
  {
   "cell_type": "code",
   "execution_count": 7,
   "id": "74408f25",
   "metadata": {},
   "outputs": [
    {
     "name": "stdout",
     "output_type": "stream",
     "text": [
      "root\n",
      " |-- legId: string (nullable = true)\n",
      " |-- searchDate: date (nullable = true)\n",
      " |-- flightDate: date (nullable = true)\n",
      " |-- startingAirport: string (nullable = true)\n",
      " |-- destinationAirport: string (nullable = true)\n",
      " |-- fareBasisCode: string (nullable = true)\n",
      " |-- travelDuration: string (nullable = true)\n",
      " |-- elapsedDays: integer (nullable = true)\n",
      " |-- isBasicEconomy: boolean (nullable = true)\n",
      " |-- isRefundable: boolean (nullable = true)\n",
      " |-- isNonStop: boolean (nullable = true)\n",
      " |-- baseFare: double (nullable = true)\n",
      " |-- totalFare: double (nullable = true)\n",
      " |-- seatsRemaining: integer (nullable = true)\n",
      " |-- totalTravelDistance: integer (nullable = true)\n",
      " |-- segmentsDepartureTimeEpochSeconds: string (nullable = true)\n",
      " |-- segmentsDepartureTimeRaw: string (nullable = true)\n",
      " |-- segmentsArrivalTimeEpochSeconds: string (nullable = true)\n",
      " |-- segmentsArrivalTimeRaw: string (nullable = true)\n",
      " |-- segmentsArrivalAirportCode: string (nullable = true)\n",
      " |-- segmentsDepartureAirportCode: string (nullable = true)\n",
      " |-- segmentsAirlineName: string (nullable = true)\n",
      " |-- segmentsAirlineCode: string (nullable = true)\n",
      " |-- segmentsEquipmentDescription: string (nullable = true)\n",
      " |-- segmentsDurationInSeconds: string (nullable = true)\n",
      " |-- segmentsDistance: string (nullable = true)\n",
      " |-- segmentsCabinCode: string (nullable = true)\n",
      "\n"
     ]
    }
   ],
   "source": [
    "#dropping unnecessary columns\n",
    "df.printSchema()"
   ]
  },
  {
   "cell_type": "code",
   "execution_count": null,
   "id": "271b04be",
   "metadata": {},
   "outputs": [
    {
     "name": "stdout",
     "output_type": "stream",
     "text": [
      "Columns: ['legId', 'searchDate', 'flightDate', 'startingAirport', 'destinationAirport', 'fareBasisCode', 'travelDuration', 'elapsedDays', 'isBasicEconomy', 'isRefundable', 'isNonStop', 'baseFare', 'totalFare', 'seatsRemaining', 'totalTravelDistance', 'segmentsDepartureTimeEpochSeconds', 'segmentsDepartureTimeRaw', 'segmentsArrivalTimeEpochSeconds', 'segmentsArrivalTimeRaw', 'segmentsArrivalAirportCode', 'segmentsDepartureAirportCode', 'segmentsAirlineName', 'segmentsAirlineCode', 'segmentsEquipmentDescription', 'segmentsDurationInSeconds', 'segmentsDistance', 'segmentsCabinCode']\n"
     ]
    }
   ],
   "source": [
    "#listing all columns\n",
    "print(\"Columns:\", df.columns)"
   ]
  },
  {
   "cell_type": "code",
   "execution_count": 9,
   "id": "73e07987",
   "metadata": {},
   "outputs": [],
   "source": [
    "#dropping unnecessary columns\n",
    "sdf = df.drop(\n",
    "    'legId', \n",
    "    'travelDuration', \n",
    "    'elapsedDays', \n",
    "    'baseFare', \n",
    "    'totalFare', \n",
    "    'segmentsDepartureTimeEpochSeconds', \n",
    "    'segmentsDepartureTimeRaw', \n",
    "    'segmentsArrivalTimeEpochSeconds', \n",
    "    'segmentsArrivalTimeRaw', \n",
    "    'segmentsArrivalAirportCode', \n",
    "    'segmentsDepartureAirportCode', \n",
    "    'segmentsAirlineName', \n",
    "    'segmentsAirlineCode', \n",
    "    'segmentsEquipmentDescription', \n",
    "    'segmentsDurationInSeconds', \n",
    "    'segmentsDistance'\n",
    ")\n"
   ]
  },
  {
   "cell_type": "code",
   "execution_count": 11,
   "id": "71f20846",
   "metadata": {},
   "outputs": [
    {
     "name": "stderr",
     "output_type": "stream",
     "text": [
      "[Stage 5:======================================================>(231 + 1) / 232]\r"
     ]
    },
    {
     "name": "stdout",
     "output_type": "stream",
     "text": [
      "searchDate: 82138753\n",
      "flightDate: 82138753\n",
      "startingAirport: 82138753\n",
      "destinationAirport: 82138753\n",
      "fareBasisCode: 82138753\n",
      "isBasicEconomy: 82138753\n",
      "isRefundable: 82138753\n",
      "isNonStop: 82138753\n",
      "seatsRemaining: 82138753\n",
      "totalTravelDistance: 76044221\n",
      "segmentsCabinCode: 82138753\n"
     ]
    },
    {
     "name": "stderr",
     "output_type": "stream",
     "text": [
      "\r\n",
      "                                                                                \r"
     ]
    }
   ],
   "source": [
    "#counting the amount of non-null records in each column\n",
    "non_null_values = (\n",
    "    sdf.select([count(when(~isnull(c), c)).alias(c) for c in sdf.columns])\n",
    "    .first()\n",
    "    .asDict()\n",
    ")\n",
    "for k, v in non_null_values.items():\n",
    "    print(f\"{k}: {v}\")"
   ]
  },
  {
   "cell_type": "code",
   "execution_count": 12,
   "id": "8e0113d6",
   "metadata": {},
   "outputs": [],
   "source": [
    "#percentage with total travel distance missing\n",
    "percentage = (82138753-76044221)/82138753\n"
   ]
  },
  {
   "cell_type": "code",
   "execution_count": 13,
   "id": "5129df32",
   "metadata": {},
   "outputs": [],
   "source": [
    "#removing records with null values\n",
    "sdf = sdf.filter(sdf[\"totalTravelDistance\"].isNotNull())"
   ]
  },
  {
   "cell_type": "code",
   "execution_count": 14,
   "id": "f82327e7",
   "metadata": {},
   "outputs": [
    {
     "name": "stderr",
     "output_type": "stream",
     "text": [
      "[Stage 8:======================================================>(231 + 1) / 232]\r"
     ]
    },
    {
     "name": "stdout",
     "output_type": "stream",
     "text": [
      "searchDate: 76044221\n",
      "flightDate: 76044221\n",
      "startingAirport: 76044221\n",
      "destinationAirport: 76044221\n",
      "fareBasisCode: 76044221\n",
      "isBasicEconomy: 76044221\n",
      "isRefundable: 76044221\n",
      "isNonStop: 76044221\n",
      "seatsRemaining: 76044221\n",
      "totalTravelDistance: 76044221\n",
      "segmentsCabinCode: 76044221\n"
     ]
    },
    {
     "name": "stderr",
     "output_type": "stream",
     "text": [
      "\r\n",
      "                                                                                \r"
     ]
    }
   ],
   "source": [
    "#checking for null records-removal\n",
    "non_null_values = (\n",
    "    sdf.select([count(when(~isnull(c), c)).alias(c) for c in sdf.columns])\n",
    "    .first()\n",
    "    .asDict()\n",
    ")\n",
    "for k, v in non_null_values.items():\n",
    "    print(f\"{k}: {v}\")"
   ]
  },
  {
   "cell_type": "code",
   "execution_count": 18,
   "id": "f900944e",
   "metadata": {},
   "outputs": [],
   "source": [
    "#removing duplicate records\n",
    "sdf = sdf.dropDuplicates()"
   ]
  },
  {
   "cell_type": "code",
   "execution_count": 19,
   "id": "62e61655",
   "metadata": {},
   "outputs": [
    {
     "name": "stderr",
     "output_type": "stream",
     "text": [
      "[Stage 19:=================================================>      (21 + 3) / 24]\r"
     ]
    },
    {
     "name": "stdout",
     "output_type": "stream",
     "text": [
      "searchDate: 50061920\n",
      "flightDate: 50061920\n",
      "startingAirport: 50061920\n",
      "destinationAirport: 50061920\n",
      "fareBasisCode: 50061920\n",
      "isBasicEconomy: 50061920\n",
      "isRefundable: 50061920\n",
      "isNonStop: 50061920\n",
      "seatsRemaining: 50061920\n",
      "totalTravelDistance: 50061920\n",
      "segmentsCabinCode: 50061920\n"
     ]
    },
    {
     "name": "stderr",
     "output_type": "stream",
     "text": [
      "\r\n",
      "                                                                                \r"
     ]
    }
   ],
   "source": [
    "#checking for duplicate records-removal\n",
    "non_null_values = (\n",
    "    sdf.select([count(when(~isnull(c), c)).alias(c) for c in sdf.columns])\n",
    "    .first()\n",
    "    .asDict()\n",
    ")\n",
    "for k, v in non_null_values.items():\n",
    "    print(f\"{k}: {v}\")"
   ]
  },
  {
   "cell_type": "code",
   "execution_count": 33,
   "id": "22c53892",
   "metadata": {},
   "outputs": [
    {
     "name": "stdout",
     "output_type": "stream",
     "text": [
      "# of duplicate records = 25982301\n",
      "% of records that were duplicates = 34.17%\n"
     ]
    }
   ],
   "source": [
    "dups = 76044221 - 50061920\n",
    "dup_percent = (dups / 76044221) * 100\n",
    "print(f'# of duplicate records = {dups}')\n",
    "print(f'% of records that were duplicates = {dup_percent:.2f}%')"
   ]
  },
  {
   "cell_type": "code",
   "execution_count": 22,
   "id": "efca658c",
   "metadata": {},
   "outputs": [
    {
     "name": "stderr",
     "output_type": "stream",
     "text": [
      "                                                                                \r"
     ]
    }
   ],
   "source": [
    "#writing the data to the \"/cleaned\" folder\n",
    "sdf.write.mode(\"overwrite\").format(\"parquet\").save(\"gs://my-mlproject-bucket-rj/cleaned\")"
   ]
  }
 ],
 "metadata": {
  "kernelspec": {
   "display_name": "PySpark",
   "language": "python",
   "name": "pyspark"
  },
  "language_info": {
   "codemirror_mode": {
    "name": "ipython",
    "version": 3
   },
   "file_extension": ".py",
   "mimetype": "text/x-python",
   "name": "python",
   "nbconvert_exporter": "python",
   "pygments_lexer": "ipython3",
   "version": "3.11.8"
  }
 },
 "nbformat": 4,
 "nbformat_minor": 5
}
